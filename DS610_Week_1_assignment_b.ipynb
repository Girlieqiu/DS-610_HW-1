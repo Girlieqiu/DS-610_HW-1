{
 "cells": [
  {
   "cell_type": "code",
   "execution_count": 1,
   "id": "200b0442",
   "metadata": {},
   "outputs": [],
   "source": [
    "# Write a function that brings all titles from README.md file."
   ]
  },
  {
   "cell_type": "code",
   "execution_count": 28,
   "id": "27503654",
   "metadata": {},
   "outputs": [
    {
     "name": "stdout",
     "output_type": "stream",
     "text": [
      "# Get Familiar with Python\n",
      "## Functions\n",
      "# function​\n",
      "## Classes\n",
      "# class​\n",
      "## Modules & Packages\n",
      "# Hello, Metin!\n",
      "## Generators\n",
      "## Inheritance and Polymorphism\n",
      "## Decorators\n",
      "# sugar syntax!\n",
      "# long way\n",
      "## Python Virtual Environments\n",
      "## What to do next?\n"
     ]
    }
   ],
   "source": [
    "# Define the function first\n",
    "def get_markdown_titles(file_path):\n",
    "    titles = []\n",
    "    with open(file_path, 'r') as file:\n",
    "        for line in file:\n",
    "            stripped_line = line.strip()  # Remove leading/trailing whitespace\n",
    "            if stripped_line.startswith('#'):  # Check for markdown titles\n",
    "                titles.append(stripped_line)\n",
    "    return titles\n",
    "\n",
    "file_path = 'README.md'\n",
    "\n",
    "titles = get_markdown_titles(file_path)\n",
    "for title in titles:\n",
    "    print(title)"
   ]
  },
  {
   "cell_type": "code",
   "execution_count": 29,
   "id": "3c6cdf78",
   "metadata": {},
   "outputs": [],
   "source": [
    "# Make a dataframe from https://archive.ics.uci.edu/ml/machine-learning-databases/auto-mpg/ dataset."
   ]
  },
  {
   "cell_type": "code",
   "execution_count": 33,
   "id": "27c2f681",
   "metadata": {},
   "outputs": [
    {
     "name": "stdout",
     "output_type": "stream",
     "text": [
      "    mpg  cylinders  displacement  horsepower  weight  acceleration  \\\n",
      "0  18.0          8         307.0       130.0  3504.0          12.0   \n",
      "1  15.0          8         350.0       165.0  3693.0          11.5   \n",
      "2  18.0          8         318.0       150.0  3436.0          11.0   \n",
      "3  16.0          8         304.0       150.0  3433.0          12.0   \n",
      "4  17.0          8         302.0       140.0  3449.0          10.5   \n",
      "\n",
      "   model year  origin                   car name  \n",
      "0          70       1  chevrolet chevelle malibu  \n",
      "1          70       1          buick skylark 320  \n",
      "2          70       1         plymouth satellite  \n",
      "3          70       1              amc rebel sst  \n",
      "4          70       1                ford torino  \n"
     ]
    }
   ],
   "source": [
    "import pandas as pd\n",
    "\n",
    "url = 'https://archive.ics.uci.edu/ml/machine-learning-databases/auto-mpg/auto-mpg.data'\n",
    "\n",
    "columns = [\n",
    "    'mpg', 'cylinders', 'displacement', 'horsepower', 'weight', \n",
    "    'acceleration', 'model year', 'origin', 'car name'\n",
    "]\n",
    "\n",
    "df = pd.read_csv(url, sep=\"\\s+\", header=None, names=columns, na_values='?')\n",
    "\n",
    "print(df.head())"
   ]
  },
  {
   "cell_type": "code",
   "execution_count": 34,
   "id": "31784f69",
   "metadata": {},
   "outputs": [],
   "source": [
    "# Make a dataframe from https://archive.ics.uci.edu/ml/datasets/Bar+Crawl%3A+Detecting+Heavy+Drinking dataset."
   ]
  },
  {
   "cell_type": "code",
   "execution_count": 46,
   "id": "35fe2a46",
   "metadata": {},
   "outputs": [
    {
     "name": "stdout",
     "output_type": "stream",
     "text": [
      "                                                  id                     age  \\\n",
      "0                                    <!DOCTYPE html>                     NaN   \n",
      "1                <html lang=\"en\" data-theme=\"light\">                     NaN   \n",
      "2                                             <head>                     NaN   \n",
      "3                           <meta charset=\"UTF-8\" />                     NaN   \n",
      "4      <meta name=\"viewport\" content=\"width=devic...   initial-scale=1.0\" />   \n",
      "\n",
      "  gender binge_drinking bar_1 bar_2  bar_3  bar_4  bar_5  \n",
      "0    NaN            NaN   NaN   NaN    NaN    NaN    NaN  \n",
      "1    NaN            NaN   NaN   NaN    NaN    NaN    NaN  \n",
      "2    NaN            NaN   NaN   NaN    NaN    NaN    NaN  \n",
      "3    NaN            NaN   NaN   NaN    NaN    NaN    NaN  \n",
      "4    NaN            NaN   NaN   NaN    NaN    NaN    NaN  \n"
     ]
    }
   ],
   "source": [
    "import pandas as pd\n",
    "\n",
    "url = 'https://archive.ics.uci.edu/ml/datasets/Bar+Crawl%3A+Detecting+Heavy+Drinking'\n",
    "\n",
    "# Define the column names based on the dataset's description\n",
    "columns = [\n",
    "    'id', 'age', 'gender', 'binge_drinking', 'bar_1', 'bar_2', 'bar_3', 'bar_4', 'bar_5'\n",
    "]\n",
    "\n",
    "df = pd.read_csv(url, sep=',', header=None, names=columns, na_values='?', on_bad_lines='skip')\n",
    "\n",
    "\n",
    "print(df.head())"
   ]
  }
 ],
 "metadata": {
  "kernelspec": {
   "display_name": "Python 3 (ipykernel)",
   "language": "python",
   "name": "python3"
  },
  "language_info": {
   "codemirror_mode": {
    "name": "ipython",
    "version": 3
   },
   "file_extension": ".py",
   "mimetype": "text/x-python",
   "name": "python",
   "nbconvert_exporter": "python",
   "pygments_lexer": "ipython3",
   "version": "3.11.5"
  }
 },
 "nbformat": 4,
 "nbformat_minor": 5
}
