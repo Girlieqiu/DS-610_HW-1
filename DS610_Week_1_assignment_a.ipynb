{
 "cells": [
  {
   "cell_type": "code",
   "execution_count": 44,
   "id": "e41c5fc7",
   "metadata": {},
   "outputs": [],
   "source": [
    "# Function"
   ]
  },
  {
   "cell_type": "code",
   "execution_count": 45,
   "id": "767b5205",
   "metadata": {},
   "outputs": [],
   "source": [
    "def get_weather_info():\n",
    "    pass"
   ]
  },
  {
   "cell_type": "code",
   "execution_count": 46,
   "id": "67884141",
   "metadata": {},
   "outputs": [],
   "source": [
    "def get_weather_info():\n",
    "    \"\"\"Function's docstring\"\"\""
   ]
  },
  {
   "cell_type": "code",
   "execution_count": 47,
   "id": "71bf3b19",
   "metadata": {},
   "outputs": [],
   "source": [
    "def get_weather_info():\n",
    "    \"\"\"Function's docstring\"\"\"\n",
    "    print('Weather is 30 degrees')"
   ]
  },
  {
   "cell_type": "code",
   "execution_count": 48,
   "id": "0eaa2310",
   "metadata": {},
   "outputs": [
    {
     "name": "stdout",
     "output_type": "stream",
     "text": [
      "Weather is 30 degrees\n"
     ]
    }
   ],
   "source": [
    "get_weather_info()"
   ]
  },
  {
   "cell_type": "code",
   "execution_count": 49,
   "id": "406c2bac",
   "metadata": {},
   "outputs": [],
   "source": [
    "# Args and Kwargs"
   ]
  },
  {
   "cell_type": "code",
   "execution_count": 50,
   "id": "6481723a",
   "metadata": {},
   "outputs": [],
   "source": [
    "def update_model(model, *args, **kwargs):\n",
    "    print(args, kwargs)"
   ]
  },
  {
   "cell_type": "code",
   "execution_count": 51,
   "id": "6cef1518",
   "metadata": {},
   "outputs": [
    {
     "name": "stdout",
     "output_type": "stream",
     "text": [
      "() {}\n"
     ]
    }
   ],
   "source": [
    "update_model('my model')"
   ]
  },
  {
   "cell_type": "code",
   "execution_count": 52,
   "id": "3c66bf99",
   "metadata": {},
   "outputs": [
    {
     "name": "stdout",
     "output_type": "stream",
     "text": [
      "(10, 20, 'Metin') {'sep': ';'}\n"
     ]
    }
   ],
   "source": [
    "update_model('my model', 10, 20, 'Metin', sep=';')"
   ]
  },
  {
   "cell_type": "code",
   "execution_count": 53,
   "id": "c7e74322",
   "metadata": {},
   "outputs": [],
   "source": [
    "def update_model2(model, *a, **b):\n",
    "    print(a, b)\n",
    "    print(type(a), type(b))\n",
    "    return b.get('sep')"
   ]
  },
  {
   "cell_type": "code",
   "execution_count": 54,
   "id": "9f6c21b5",
   "metadata": {},
   "outputs": [
    {
     "name": "stdout",
     "output_type": "stream",
     "text": [
      "(10, 20, 'Metin') {'sep': ';', 'header': None}\n",
      "<class 'tuple'> <class 'dict'>\n"
     ]
    },
    {
     "data": {
      "text/plain": [
       "';'"
      ]
     },
     "execution_count": 54,
     "metadata": {},
     "output_type": "execute_result"
    }
   ],
   "source": [
    "update_model2('my model', 10, 20, 'Metin', sep=';', header=None)"
   ]
  },
  {
   "cell_type": "code",
   "execution_count": 55,
   "id": "de883c07",
   "metadata": {},
   "outputs": [],
   "source": [
    "# dict.get()"
   ]
  },
  {
   "cell_type": "code",
   "execution_count": 56,
   "id": "acef7caa",
   "metadata": {},
   "outputs": [],
   "source": [
    "my_dict = {'sep2': ';', 'header': None}"
   ]
  },
  {
   "cell_type": "code",
   "execution_count": 57,
   "id": "c64a7809",
   "metadata": {},
   "outputs": [
    {
     "data": {
      "text/plain": [
       "';'"
      ]
     },
     "execution_count": 57,
     "metadata": {},
     "output_type": "execute_result"
    }
   ],
   "source": [
    "my_dict['sep2']"
   ]
  },
  {
   "cell_type": "code",
   "execution_count": 58,
   "id": "5a55369f",
   "metadata": {},
   "outputs": [
    {
     "data": {
      "text/plain": [
       "';'"
      ]
     },
     "execution_count": 58,
     "metadata": {},
     "output_type": "execute_result"
    }
   ],
   "source": [
    "my_dict.get('sep2')"
   ]
  },
  {
   "cell_type": "code",
   "execution_count": 59,
   "id": "8550c384",
   "metadata": {},
   "outputs": [
    {
     "name": "stdout",
     "output_type": "stream",
     "text": [
      ";\n"
     ]
    }
   ],
   "source": [
    "print(my_dict.get('sep2'))"
   ]
  },
  {
   "cell_type": "code",
   "execution_count": 60,
   "id": "9703995c",
   "metadata": {},
   "outputs": [],
   "source": [
    "# Lambda Function"
   ]
  },
  {
   "cell_type": "code",
   "execution_count": 61,
   "id": "aff68c91",
   "metadata": {},
   "outputs": [],
   "source": [
    "my_lambda_function = lambda x, y, z: round((x / y) ** z, 2)"
   ]
  },
  {
   "cell_type": "code",
   "execution_count": 62,
   "id": "0420b360",
   "metadata": {},
   "outputs": [
    {
     "data": {
      "text/plain": [
       "<function __main__.<lambda>(x, y, z)>"
      ]
     },
     "execution_count": 62,
     "metadata": {},
     "output_type": "execute_result"
    }
   ],
   "source": [
    "my_lambda_function"
   ]
  },
  {
   "cell_type": "code",
   "execution_count": 63,
   "id": "b3de28b6",
   "metadata": {},
   "outputs": [
    {
     "data": {
      "text/plain": [
       "<function __main__.update_model2(model, *a, **b)>"
      ]
     },
     "execution_count": 63,
     "metadata": {},
     "output_type": "execute_result"
    }
   ],
   "source": [
    "update_model2"
   ]
  },
  {
   "cell_type": "code",
   "execution_count": 64,
   "id": "c13b2fd2",
   "metadata": {},
   "outputs": [
    {
     "data": {
      "text/plain": [
       "0.12"
      ]
     },
     "execution_count": 64,
     "metadata": {},
     "output_type": "execute_result"
    }
   ],
   "source": [
    "my_lambda_function(1,2,3)"
   ]
  },
  {
   "cell_type": "code",
   "execution_count": 65,
   "id": "b7988252",
   "metadata": {},
   "outputs": [],
   "source": [
    "# Classes"
   ]
  },
  {
   "cell_type": "code",
   "execution_count": 66,
   "id": "b0a6a532",
   "metadata": {},
   "outputs": [],
   "source": [
    "class Processing:\n",
    "    my_var = 'Hello, World' # class attribute\n",
    "    \n",
    "    def __init__(self, a, b):\n",
    "        self.a = a # instance attribute\n",
    "        self.b = b\n",
    "    def clean_stop_words(self):\n",
    "        return self.my_var\n",
    "\n",
    "# def clean_rare_words(self, rare_words_list):\n",
    "# pass"
   ]
  },
  {
   "cell_type": "code",
   "execution_count": 67,
   "id": "6761f138",
   "metadata": {},
   "outputs": [
    {
     "data": {
      "text/plain": [
       "'Hello, World'"
      ]
     },
     "execution_count": 67,
     "metadata": {},
     "output_type": "execute_result"
    }
   ],
   "source": [
    "# access without the need to. instantiate\n",
    "Processing.my_var"
   ]
  },
  {
   "cell_type": "code",
   "execution_count": 68,
   "id": "d35bad1f",
   "metadata": {},
   "outputs": [
    {
     "name": "stdout",
     "output_type": "stream",
     "text": [
      "1\n"
     ]
    }
   ],
   "source": [
    "# requires instantiation, otherwise fail\n",
    "p = Processing(1, 2)\n",
    "print(p.a)"
   ]
  },
  {
   "cell_type": "code",
   "execution_count": 69,
   "id": "f66c53ce",
   "metadata": {},
   "outputs": [
    {
     "data": {
      "text/plain": [
       "1"
      ]
     },
     "execution_count": 69,
     "metadata": {},
     "output_type": "execute_result"
    }
   ],
   "source": [
    "# access after instantiation\n",
    "Processing(1, 2).a"
   ]
  },
  {
   "cell_type": "code",
   "execution_count": 70,
   "id": "fb40969c",
   "metadata": {},
   "outputs": [],
   "source": [
    "# Modules"
   ]
  },
  {
   "cell_type": "code",
   "execution_count": 71,
   "id": "2da21196",
   "metadata": {},
   "outputs": [],
   "source": [
    "import sys\n",
    "sys.path.append('/path/to/your/module2_directory')\n",
    "\n",
    "import module2"
   ]
  },
  {
   "cell_type": "code",
   "execution_count": 72,
   "id": "e2828e51",
   "metadata": {},
   "outputs": [
    {
     "name": "stdout",
     "output_type": "stream",
     "text": [
      "module1.FolderOperations\n",
      "{'name': 'John', 'age': 36, 'country': 'Norway'}\n",
      "Hello, Prianka!\n"
     ]
    }
   ],
   "source": [
    "from module1 import FolderOperations, greeting, PERSON1\n",
    "from module1 import * \n",
    "\n",
    "folder_ops = FolderOperations(\"module1.FolderOperations\")\n",
    "folder_ops.create()\n",
    "\n",
    "print(PERSON1) \n",
    "\n",
    "print(greeting(\"Prianka\"))"
   ]
  },
  {
   "cell_type": "code",
   "execution_count": 73,
   "id": "2cf74237",
   "metadata": {},
   "outputs": [
    {
     "name": "stdout",
     "output_type": "stream",
     "text": [
      "My Class Folder\n"
     ]
    }
   ],
   "source": [
    "from module1 import FolderOperations\n",
    "from pathlib import PosixPath\n",
    "\n",
    "my_folder = FolderOperations(PosixPath('My Class Folder'))\n",
    "print(my_folder.folderpath)"
   ]
  },
  {
   "cell_type": "code",
   "execution_count": 74,
   "id": "c0ebe9c2",
   "metadata": {},
   "outputs": [
    {
     "name": "stdout",
     "output_type": "stream",
     "text": [
      "False\n"
     ]
    }
   ],
   "source": [
    "print(my_folder.exists())"
   ]
  },
  {
   "cell_type": "code",
   "execution_count": 75,
   "id": "e1b92b9b",
   "metadata": {},
   "outputs": [
    {
     "name": "stdout",
     "output_type": "stream",
     "text": [
      "My Class Folder\n",
      "None\n"
     ]
    }
   ],
   "source": [
    "print(my_folder.create())"
   ]
  },
  {
   "cell_type": "code",
   "execution_count": 76,
   "id": "c4165200",
   "metadata": {},
   "outputs": [
    {
     "name": "stdout",
     "output_type": "stream",
     "text": [
      "\u001b[34mApplications\u001b[m\u001b[m\r\n",
      "College.csv\r\n",
      "D542_week 1  assignment.py\r\n",
      "DS 600_Final Project.ipynb\r\n",
      "DS600-week 2 assessment _1.ipynb\r\n",
      "DS600_assignment_3.ipynb\r\n",
      "DS600_week2 assignment _2.ipynb\r\n",
      "DS610_Week_1_assignment.ipynb\r\n",
      "DS630_Assignment_1_week_1.ipynb\r\n",
      "DS630_Assignment_1_week_2.ipynb\r\n",
      "DS630_Assignment_2_week_3.ipynb\r\n",
      "DS630_Assignment_2_week_4.ipynb\r\n",
      "DS630_Assignment_2_week_5.ipynb\r\n",
      "DS630_Assignment_3_week_6_Daisy_Dai.ipynb\r\n",
      "DS630_Assignment_3_week_7_Daisy_Dai.ipynb\r\n",
      "DS630_Assignment_4_week_8_Daisy_Dai.ipynb\r\n",
      "DS630_Assignment_4_week_9_Daisy_Dai.ipynb\r\n",
      "DS630_Final.ipynb\r\n",
      "DS_630 _Final_Project_Daisy_Dai.ipynb\r\n",
      "\u001b[34mDesktop\u001b[m\u001b[m\r\n",
      "\u001b[34mDocuments\u001b[m\u001b[m\r\n",
      "\u001b[34mDownloads\u001b[m\u001b[m\r\n",
      "Final Code DS 600.ipynb\r\n",
      "\u001b[34mLibrary\u001b[m\u001b[m\r\n",
      "Midterm.ipynb\r\n",
      "\u001b[34mMovies\u001b[m\u001b[m\r\n",
      "\u001b[34mMusic\u001b[m\u001b[m\r\n",
      "\u001b[34mPictures\u001b[m\u001b[m\r\n",
      "\u001b[34mPostman\u001b[m\u001b[m\r\n",
      "\u001b[34mPublic\u001b[m\u001b[m\r\n",
      "\u001b[34mPycharmProjects\u001b[m\u001b[m\r\n",
      "Untitled.ipynb\r\n",
      "Untitled1.ipynb\r\n",
      "Youtube practice.ipynb\r\n",
      "\u001b[34m__pycache__\u001b[m\u001b[m\r\n",
      "adult.data\r\n",
      "\u001b[34manaconda3\u001b[m\u001b[m\r\n",
      "final_rf_model.pkl\r\n",
      "heart_attack_prediction_dataset.csv\r\n",
      "module1.FolderOperations.py\r\n",
      "module1.ipynb\r\n",
      "module1.py\r\n",
      "module2.ipynb\r\n",
      "module2.py\r\n",
      "\u001b[34mscikit_learn_data\u001b[m\u001b[m\r\n"
     ]
    }
   ],
   "source": [
    "! ls"
   ]
  },
  {
   "cell_type": "code",
   "execution_count": 77,
   "id": "3d2bdb58",
   "metadata": {},
   "outputs": [
    {
     "name": "stdout",
     "output_type": "stream",
     "text": [
      "ls: My Class Folder: No such file or directory\r\n"
     ]
    }
   ],
   "source": [
    "! ls \"My Class Folder\""
   ]
  },
  {
   "cell_type": "code",
   "execution_count": 78,
   "id": "36b0a223",
   "metadata": {},
   "outputs": [
    {
     "data": {
      "text/plain": [
       "PosixPath('My Class Folder/Untitled.txt')"
      ]
     },
     "execution_count": 78,
     "metadata": {},
     "output_type": "execute_result"
    }
   ],
   "source": [
    "my_folder .add_file()"
   ]
  },
  {
   "cell_type": "code",
   "execution_count": 79,
   "id": "fd551d8f",
   "metadata": {},
   "outputs": [
    {
     "name": "stdout",
     "output_type": "stream",
     "text": [
      "ls: My Class Folder: No such file or directory\r\n"
     ]
    }
   ],
   "source": [
    "! ls My\\ Class\\ Folder"
   ]
  },
  {
   "cell_type": "code",
   "execution_count": 80,
   "id": "712db94e",
   "metadata": {},
   "outputs": [],
   "source": [
    "# Generators"
   ]
  },
  {
   "cell_type": "code",
   "execution_count": 81,
   "id": "a4bc26d9",
   "metadata": {},
   "outputs": [
    {
     "name": "stdout",
     "output_type": "stream",
     "text": [
      "apple\n",
      "peach\n",
      "pineapple\n"
     ]
    }
   ],
   "source": [
    "item = ['apple', 'peach', 'pineapple']\n",
    "\n",
    "for item in items:\n",
    "    print(item)"
   ]
  },
  {
   "cell_type": "code",
   "execution_count": 82,
   "id": "1286ab02",
   "metadata": {},
   "outputs": [],
   "source": [
    "def get_fruit1():\n",
    "    items = ['apple', 'peach', 'pinepple']\n",
    "    \n",
    "    for item in items:\n",
    "        return item\n",
    "\n",
    "    \n",
    "def get_fruit2():\n",
    "    items = ['apple', 'peach', 'pineapple']\n",
    "    \n",
    "    for item in items:\n",
    "        print('Current item: ', item, 'Items list: ', items)\n",
    "        yield item\n",
    "        print('Going next...')"
   ]
  },
  {
   "cell_type": "code",
   "execution_count": 83,
   "id": "0c44ac6c",
   "metadata": {},
   "outputs": [
    {
     "data": {
      "text/plain": [
       "'apple'"
      ]
     },
     "execution_count": 83,
     "metadata": {},
     "output_type": "execute_result"
    }
   ],
   "source": [
    "get_fruit1()"
   ]
  },
  {
   "cell_type": "code",
   "execution_count": 84,
   "id": "ac855637",
   "metadata": {},
   "outputs": [],
   "source": [
    "my_gen = get_fruit2()"
   ]
  },
  {
   "cell_type": "code",
   "execution_count": 85,
   "id": "19a9008d",
   "metadata": {},
   "outputs": [
    {
     "name": "stdout",
     "output_type": "stream",
     "text": [
      "Current item:  apple Items list:  ['apple', 'peach', 'pineapple']\n",
      "apple\n"
     ]
    }
   ],
   "source": [
    "for item in my_gen:\n",
    "    print(item)\n",
    "    break"
   ]
  },
  {
   "cell_type": "code",
   "execution_count": 86,
   "id": "6ad38bf8",
   "metadata": {},
   "outputs": [],
   "source": [
    "# Inheritance"
   ]
  },
  {
   "cell_type": "code",
   "execution_count": 87,
   "id": "1d6a877b",
   "metadata": {},
   "outputs": [],
   "source": [
    "class Person:\n",
    "    def __init__ (self, fname, lname):\n",
    "        self.firstname = fname\n",
    "        self.lastname = lname\n",
    "    \n",
    "    def printname(self):\n",
    "        print(self.firstname, self.lastname)"
   ]
  },
  {
   "cell_type": "code",
   "execution_count": 88,
   "id": "d4f79716",
   "metadata": {},
   "outputs": [],
   "source": [
    "class Student(Person):\n",
    "    def __init__(self,fname, lname, student_id=None):\n",
    "        self.firstname = fname\n",
    "        self.lastname = lname\n",
    "        self.student_id = student_id\n",
    "    \n",
    "    def get_student_id(self):\n",
    "        return self.student_id"
   ]
  },
  {
   "cell_type": "code",
   "execution_count": 89,
   "id": "bee2d518",
   "metadata": {},
   "outputs": [],
   "source": [
    "p = Person(\"Mike\", \"Olsen\")\n",
    "s = Student(\"Mike\", \"Olsen\", 1234)"
   ]
  },
  {
   "cell_type": "code",
   "execution_count": 90,
   "id": "5563eacf",
   "metadata": {},
   "outputs": [
    {
     "name": "stdout",
     "output_type": "stream",
     "text": [
      "Mike Olsen\n"
     ]
    }
   ],
   "source": [
    "p.printname()"
   ]
  },
  {
   "cell_type": "code",
   "execution_count": 91,
   "id": "19cc8388",
   "metadata": {},
   "outputs": [
    {
     "data": {
      "text/plain": [
       "1234"
      ]
     },
     "execution_count": 91,
     "metadata": {},
     "output_type": "execute_result"
    }
   ],
   "source": [
    "s.get_student_id()"
   ]
  },
  {
   "cell_type": "code",
   "execution_count": 92,
   "id": "e55e952b",
   "metadata": {},
   "outputs": [],
   "source": [
    "# Decorators"
   ]
  },
  {
   "cell_type": "code",
   "execution_count": 93,
   "id": "967300fa",
   "metadata": {},
   "outputs": [],
   "source": [
    "import time\n",
    "import math\n",
    "\n",
    "def calculate_time(func):\n",
    "    def inner1(*args, **kwargs):\n",
    "        begin = time.time()\n",
    "        func(*args, **kwarges)\n",
    "        end = time.time()\n",
    "        print(\"Total time taken in : \", func.__name__, end - begin)\n",
    "        \n",
    "    return inner1"
   ]
  },
  {
   "cell_type": "code",
   "execution_count": 94,
   "id": "d2af38cc",
   "metadata": {},
   "outputs": [],
   "source": [
    "def factorial(num):\n",
    "    time.sleep(1)\n",
    "    print('factorial: ', math.factorial(num))"
   ]
  },
  {
   "cell_type": "code",
   "execution_count": 95,
   "id": "9592fee3",
   "metadata": {},
   "outputs": [
    {
     "name": "stdout",
     "output_type": "stream",
     "text": [
      "factorial:  362880\n",
      "1.005721092224121\n"
     ]
    }
   ],
   "source": [
    "begin = time.time()\n",
    "factorial(9) #3! 3 * 2 *1\n",
    "end = time.time()\n",
    "print(end - begin)"
   ]
  },
  {
   "cell_type": "code",
   "execution_count": 96,
   "id": "3d9bbab5",
   "metadata": {},
   "outputs": [
    {
     "name": "stdout",
     "output_type": "stream",
     "text": [
      "factorial:  362880\n"
     ]
    },
    {
     "data": {
      "text/plain": [
       "<function __main__.calculate_time.<locals>.inner1(*args, **kwargs)>"
      ]
     },
     "execution_count": 96,
     "metadata": {},
     "output_type": "execute_result"
    }
   ],
   "source": [
    "calculate_time(factorial(9))"
   ]
  },
  {
   "cell_type": "code",
   "execution_count": 97,
   "id": "5d9a5cba",
   "metadata": {},
   "outputs": [],
   "source": [
    "from dataclasses import dataclass"
   ]
  },
  {
   "cell_type": "code",
   "execution_count": 98,
   "id": "f703220d",
   "metadata": {},
   "outputs": [],
   "source": [
    "# instead of this\n",
    "class Student1:\n",
    "    name: str\n",
    "    lastname: str\n",
    "    age: int = None\n",
    "    gpa: float = None\n",
    "    \n",
    "    def __init__(self, name=\"Mike\", lastname=\"Olsen\"):\n",
    "        self.name = name\n",
    "        self.lastname = lastname"
   ]
  },
  {
   "cell_type": "code",
   "execution_count": 99,
   "id": "9924c621",
   "metadata": {},
   "outputs": [],
   "source": [
    "# we do this\n",
    "@dataclass\n",
    "class Student2:\n",
    "    name: str\n",
    "    lastname: str\n",
    "    age: int = None\n",
    "    gpa: float = None"
   ]
  },
  {
   "cell_type": "code",
   "execution_count": 100,
   "id": "aabdf68a",
   "metadata": {},
   "outputs": [],
   "source": [
    "s1 = Student1('Metin', 'Senturk')\n",
    "s2 = Student2('Metin', 'Senturk')"
   ]
  },
  {
   "cell_type": "code",
   "execution_count": 101,
   "id": "fbe2b48f",
   "metadata": {},
   "outputs": [
    {
     "data": {
      "text/plain": [
       "<__main__.Student1 at 0x10abd5110>"
      ]
     },
     "execution_count": 101,
     "metadata": {},
     "output_type": "execute_result"
    }
   ],
   "source": [
    "s1"
   ]
  },
  {
   "cell_type": "code",
   "execution_count": 102,
   "id": "4c991d4a",
   "metadata": {},
   "outputs": [
    {
     "data": {
      "text/plain": [
       "Student2(name='Metin', lastname='Senturk', age=None, gpa=None)"
      ]
     },
     "execution_count": 102,
     "metadata": {},
     "output_type": "execute_result"
    }
   ],
   "source": [
    "s2"
   ]
  }
 ],
 "metadata": {
  "kernelspec": {
   "display_name": "Python 3 (ipykernel)",
   "language": "python",
   "name": "python3"
  },
  "language_info": {
   "codemirror_mode": {
    "name": "ipython",
    "version": 3
   },
   "file_extension": ".py",
   "mimetype": "text/x-python",
   "name": "python",
   "nbconvert_exporter": "python",
   "pygments_lexer": "ipython3",
   "version": "3.11.5"
  }
 },
 "nbformat": 4,
 "nbformat_minor": 5
}
